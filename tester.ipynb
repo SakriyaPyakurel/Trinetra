{
 "cells": [
  {
   "cell_type": "code",
   "execution_count": 7,
   "id": "90f1841e",
   "metadata": {},
   "outputs": [
    {
     "name": "stdout",
     "output_type": "stream",
     "text": [
      "✅ Dataset generated as log_dataset_1m_with_xss.csv\n"
     ]
    }
   ],
   "source": [
    "import pandas as pd\n",
    "import random\n",
    "from faker import Faker\n",
    "from datetime import datetime, timedelta\n",
    "\n",
    "# Initialize faker\n",
    "fake = Faker()\n",
    "\n",
    "# Parameters\n",
    "num_rows = 1_000_000\n",
    "methods = [\"GET\", \"POST\"]\n",
    "status_codes = [200, 403, 500, 404, 302]\n",
    "labels = [\"Normal\", \"SQLi\", \"BruteForce\", \"Fuzzing\", \"CommandInjection\", \"XSS\"]\n",
    "\n",
    "# Define URL patterns\n",
    "url_patterns = {\n",
    "    \"Normal\": [\"/\", \"/contact\", \"/services\", \"/index.html\", \"/products\"],\n",
    "    \"SQLi\": [\"/login.php?user=admin'--\", \"/index.php?id=1' OR '1'='1\"],\n",
    "    \"BruteForce\": [\"/login.php?user=admin&pass=123456\", \"/login.php?user=admin&pass=guess14\"],\n",
    "    \"Fuzzing\": [\"/search?q=FUZZ\", \"/item?id=FUZZ\"],\n",
    "    \"CommandInjection\": [\"/ping?ip=127.0.0.1;ls\", \"/status?cmd=whoami\"],\n",
    "    \"XSS\": [\n",
    "        \"/search?q=<script>alert('xss')</script>\",\n",
    "        \"/profile?bio=<img src=x onerror=alert('XSS')>\",\n",
    "        \"/comment?text=%3Cscript%3Ealert('xss')%3C/script%3E\",\n",
    "        \"/page?param=<svg/onload=alert('XSS')>\",\n",
    "        \"/form?input=%22%3E%3Cscript%3Ealert(1)%3C/script%3E\"\n",
    "    ]\n",
    "}\n",
    "\n",
    "# Helpers\n",
    "start_date = datetime(2025, 7, 1)\n",
    "\n",
    "def random_timestamp():\n",
    "    return (start_date + timedelta(seconds=random.randint(0, 864000))).isoformat(\"T\")\n",
    "\n",
    "def random_url_ip():\n",
    "    return f\"{fake.ipv4()}:{random.randint(8000, 9000)}\"\n",
    "\n",
    "# Generate data\n",
    "data = []\n",
    "for _ in range(num_rows):\n",
    "    ip = fake.ipv4()\n",
    "    timestamp = random_timestamp()\n",
    "    method = random.choice(methods)\n",
    "    label = random.choices(labels, weights=[75, 5, 5, 5, 5, 5])[0]\n",
    "    url_path = random.choice(url_patterns[label])\n",
    "    url = f\"http://{random_url_ip()}{url_path}\" if url_path.startswith(\"/\") else f\"http://{random_url_ip()}/{url_path.lstrip('/')}\"\n",
    "    status = random.choice(status_codes)\n",
    "    size = random.randint(300, 6000)\n",
    "    data.append([ip, timestamp, method, url, status, size, label])\n",
    "\n",
    "# Save to CSV\n",
    "df = pd.DataFrame(data, columns=[\"ip\", \"timestamp\", \"method\", \"url\", \"status\", \"size\", \"label\"])\n",
    "df.to_csv(\"latest.csv\", index=False)\n",
    "\n",
    "print(\"✅ Dataset generated as log_dataset_1m_with_xss.csv\")\n"
   ]
  }
 ],
 "metadata": {
  "kernelspec": {
   "display_name": "Python 3",
   "language": "python",
   "name": "python3"
  },
  "language_info": {
   "codemirror_mode": {
    "name": "ipython",
    "version": 3
   },
   "file_extension": ".py",
   "mimetype": "text/x-python",
   "name": "python",
   "nbconvert_exporter": "python",
   "pygments_lexer": "ipython3",
   "version": "3.13.2"
  }
 },
 "nbformat": 4,
 "nbformat_minor": 5
}
